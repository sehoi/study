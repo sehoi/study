{
 "cells": [
  {
   "cell_type": "markdown",
   "metadata": {},
   "source": [
    "# TensorFlow 기초\n",
    "---\n",
    "\n",
    "### [1. 개요](#1)\n",
    "\n",
    "### [2. 구성](#2)\n",
    "\n",
    "### [3. 예제](#3)"
   ]
  },
  {
   "cell_type": "markdown",
   "metadata": {},
   "source": [
    "### 참고 자료\n",
    "- https://www.tensorflow.org/programmers_guide/\n",
    "- https://www.tensorflow.org/versions/master/get_started/get_started\n",
    "- https://tensorflow.blog/1-%ED%85%90%EC%84%9C%ED%94%8C%EB%A1%9C%EC%9A%B0-%EA%B8%B0%EB%B3%B8%EB%8B%A4%EC%A7%80%EA%B8%B0-first-contact-with-tensorflow/\n",
    "- 예제 코드 참조\n",
    "  - https://github.com/golbin/TensorFlow-Tutorials"
   ]
  },
  {
   "cell_type": "code",
   "execution_count": 1,
   "metadata": {
    "collapsed": true
   },
   "outputs": [],
   "source": [
    "# -*- coding: utf-8 -*-\n",
    "%matplotlib inline\n",
    "\n",
    "import sys\n",
    "stdout = sys.stdout\n",
    "reload(sys)\n",
    "sys.setdefaultencoding('utf-8')\n",
    "sys.stdout = stdout\n",
    "\n",
    "from IPython.core.interactiveshell import InteractiveShell\n",
    "InteractiveShell.ast_node_interactivity = \"all\"\n",
    "\n",
    "from pandas import DataFrame\n",
    "\n",
    "from datetime import datetime\n",
    "\n",
    "import json\n",
    "import matplotlib.pyplot as plt\n",
    "import numpy as np\n",
    "\n",
    "import pandas as pd\n",
    "import re\n",
    "import seaborn as sns\n",
    "import tensorflow as tf\n",
    "import time\n",
    "\n",
    "\n",
    "plt.style.use('seaborn-whitegrid')"
   ]
  },
  {
   "cell_type": "markdown",
   "metadata": {},
   "source": [
    "---\n",
    "<a id='1' />\n",
    "# 1. 개요"
   ]
  },
  {
   "cell_type": "markdown",
   "metadata": {},
   "source": [
    "- 텐서플로우는 데이터 플로우 그래프(Data flow graph)를 사용하여 수치 연산을 하는 오픈소스 소프트웨어 라이브러리\n",
    "- 최신 버전: r1.2\n",
    "- API 지원 언어: Python, C++, Java, GO"
   ]
  },
  {
   "cell_type": "markdown",
   "metadata": {},
   "source": [
    "---\n",
    "<a id='2'>\n",
    "# 2. 구성"
   ]
  },
  {
   "cell_type": "markdown",
   "metadata": {},
   "source": [
    "![Data flow graph](https://camo.githubusercontent.com/4ee55154486232ec9edd8f1a3bad4c4a146f6cfe/68747470733a2f2f7777772e74656e736f72666c6f772e6f72672f696d616765732f74656e736f72735f666c6f77696e672e676966)"
   ]
  },
  {
   "cell_type": "markdown",
   "metadata": {},
   "source": [
    "### Graph\n",
    "- node: op(opertion)을 나타냄\n",
    "- edge: node 사이를 이동하는 다차원 데이터 배열(Tensor)을 나타냄\n",
    "\n",
    "### Operation (op)\n",
    "- Tensor들을 입력으로 받아서 연산을 수행한 후, 다시 Tensor들을 출력\n",
    "\n",
    "### Tensor\n",
    "- 데이터를 표현하기 위한 타입을 가지는 다차원 배열\n",
    "- Rank, Shape, Data Type 으로 구성\n",
    " - https://www.tensorflow.org/programmers_guide/dims_types"
   ]
  },
  {
   "cell_type": "code",
   "execution_count": 2,
   "metadata": {},
   "outputs": [
    {
     "name": "stdout",
     "output_type": "stream",
     "text": [
      "Tensor(\"Const:0\", shape=(), dtype=string)\n",
      "Tensor(\"Add:0\", shape=(), dtype=int32)\n"
     ]
    }
   ],
   "source": [
    "# 텐서플로우의 기본적인 구성을 익힙니다.\n",
    "\n",
    "# tf.constant: 상수\n",
    "hello = tf.constant('Hello, TensorFlow!')\n",
    "\n",
    "a = tf.constant(10)\n",
    "b = tf.constant(32)\n",
    "\n",
    "c = tf.add(a, b)  # c = a + b\n",
    "\n",
    "print hello\n",
    "print c"
   ]
  },
  {
   "cell_type": "markdown",
   "metadata": {},
   "source": [
    "### Session\n",
    "- graph를 계산하기 위해서는 session 내에서 실행해야 함\n",
    "- session은 graph의 op를 디바이스(CPU, GPU)에 할당하고 실행함"
   ]
  },
  {
   "cell_type": "code",
   "execution_count": 3,
   "metadata": {},
   "outputs": [
    {
     "name": "stdout",
     "output_type": "stream",
     "text": [
      "Hello, TensorFlow!\n",
      "[10, 32, 42]\n"
     ]
    }
   ],
   "source": [
    "# 그래프를 실행할 세션을 구성합니다.\n",
    "sess = tf.Session()\n",
    "\n",
    "# sess.run: 설정한 Tensor를 실행\n",
    "print sess.run(hello)\n",
    "print sess.run([a, b, c])\n",
    "\n",
    "sess.close()"
   ]
  },
  {
   "cell_type": "markdown",
   "metadata": {},
   "source": [
    "### Variable\n",
    "- tesnor를 담기 위한 인메모리 버퍼\n",
    "- 명시적으로 초기화해야 함\n",
    "- 학습 중에 디스크에 저장 가능하며, 저장된 값을 다시 사용 가능\n",
    "\n",
    "### Placeholder\n",
    "- operation의 입력으로 직접 값을 주기 위한 Tensor"
   ]
  },
  {
   "cell_type": "code",
   "execution_count": 4,
   "metadata": {},
   "outputs": [
    {
     "name": "stdout",
     "output_type": "stream",
     "text": [
      "X:  Tensor(\"Placeholder:0\", shape=(?, 3), dtype=float32)\n",
      "W:  <tf.Variable 'Variable:0' shape=(3, 2) dtype=float32_ref>\n",
      "b:  <tf.Variable 'Variable_1:0' shape=(2, 1) dtype=float32_ref>\n",
      "expr:  Tensor(\"add:0\", shape=(2, 2), dtype=float32)\n"
     ]
    }
   ],
   "source": [
    "# 플레이스홀더와 변수의 개념을 익혀봅니다\n",
    "\n",
    "# 입력 데이터, shape\n",
    "x_data = [[1, 2, 3], [4, 5, 6]]\n",
    "\n",
    "# tf.placeholder: 계산을 실행할 때 입력값을 받는 변수로 사용\n",
    "# None 은 크기가 정해지지 않았음을 의미\n",
    "X = tf.placeholder(tf.float32, [None, 3])\n",
    "print \"X: \", X\n",
    "\n",
    "# tf.Variable: 그래프를 계산하면서 최적화 할 변수들\n",
    "# tf.random_normal: 각 변수들의 초기값을 정규분포 랜덤 값으로 초기화\n",
    "W = tf.Variable(tf.random_normal([3, 2]))\n",
    "b = tf.Variable(tf.random_normal([2, 1]))\n",
    "print \"W: \", W\n",
    "print \"b: \", b\n",
    "\n",
    "# tf.matmul 처럼 mat* 로 되어 있는 함수로 행렬 계산을 수행\n",
    "expr = tf.matmul(X, W) + b\n",
    "print \"expr: \", expr"
   ]
  },
  {
   "cell_type": "markdown",
   "metadata": {},
   "source": [
    "### Feed\n",
    "- graph에 정의한 placeholder로 데이터를 입력하는 것\n",
    "\n",
    "### Fetches\n",
    "- operation의 출력값을 가져오는 것"
   ]
  },
  {
   "cell_type": "code",
   "execution_count": 5,
   "metadata": {},
   "outputs": [
    {
     "name": "stdout",
     "output_type": "stream",
     "text": [
      "[[  7.62927246   2.90463758]\n",
      " [ 19.67732811   7.28190136]]\n"
     ]
    }
   ],
   "source": [
    "# Fetch & Feed 개념\n",
    "\n",
    "# 세션 생성\n",
    "sess = tf.Session()\n",
    "\n",
    "# Variable 값 초기화\n",
    "sess.run(tf.global_variables_initializer())\n",
    "\n",
    "# expr 실행시에는 X라는 변수에 실제 입력값이 필요.\n",
    "result = sess.run(expr, feed_dict={X: x_data})\n",
    "print result\n",
    "\n",
    "sess.close()"
   ]
  },
  {
   "cell_type": "markdown",
   "metadata": {},
   "source": [
    "---\n",
    "<a id='3'>\n",
    "# 3. 예제"
   ]
  },
  {
   "cell_type": "markdown",
   "metadata": {},
   "source": [
    "- x와 y의 상관관계를 분석하는 기초적인 선형 회귀 모델을 만들고 실행"
   ]
  },
  {
   "cell_type": "markdown",
   "metadata": {},
   "source": [
    "### TensorBoard\n",
    "- 시각화 툴\n",
    "- 실행\n",
    "  - tensorboard --logdir=./tb\n",
    "- 접속\n",
    "  - <a href=\"http://localhost:6006/\">TensorBoard</a>"
   ]
  },
  {
   "cell_type": "markdown",
   "metadata": {},
   "source": [
    "### Saver\n",
    "- 학습한 모델을 저장하고 재사용"
   ]
  },
  {
   "cell_type": "code",
   "execution_count": 6,
   "metadata": {
    "collapsed": true
   },
   "outputs": [],
   "source": [
    "# 학습 데이터\n",
    "x_data = [1, 2, 3]\n",
    "y_data = [1, 2, 3]"
   ]
  },
  {
   "cell_type": "code",
   "execution_count": 7,
   "metadata": {
    "collapsed": true
   },
   "outputs": [],
   "source": [
    "# hyperparameter\n",
    "max_epochs = 100\n",
    "learning_rate = 0.1"
   ]
  },
  {
   "cell_type": "code",
   "execution_count": 12,
   "metadata": {
    "scrolled": false
   },
   "outputs": [
    {
     "name": "stdout",
     "output_type": "stream",
     "text": [
      "x:  Tensor(\"x:0\", dtype=float32)\n",
      "y:  Tensor(\"y:0\", dtype=float32)\n",
      "w:  <tf.Variable 'weight:0' shape=(1,) dtype=float32_ref>\n",
      "b:  <tf.Variable 'bias:0' shape=(1,) dtype=float32_ref>\n",
      "hypothesis:  Tensor(\"add:0\", dtype=float32)\n"
     ]
    }
   ],
   "source": [
    "# 세션 생성\n",
    "tf.reset_default_graph()\n",
    "sess = tf.Session()\n",
    "\n",
    "# Graph 정의\n",
    "\n",
    "# name: 텐서보드나 디버깅 등에서 값의 변화를 추적하거나 보기 쉽게 하기 위해\n",
    "x = tf.placeholder(tf.float32, name=\"x\")\n",
    "y = tf.placeholder(tf.float32, name=\"y\")\n",
    "print \"x: \", x\n",
    "print \"y: \", y\n",
    "\n",
    "w = tf.Variable(tf.random_uniform([1], -1.0, 1.0), name=\"weight\")\n",
    "b = tf.Variable(tf.random_uniform([1], -1.0, 1.0), name=\"bias\")\n",
    "print \"w: \", w\n",
    "print \"b: \", b\n",
    "\n",
    "# y = w * x + b\n",
    "# w 와 x 가 행렬이 아니므로 단순 곱셈 기호를 사용\n",
    "hypothesis = w * x + b\n",
    "print \"hypothesis: \", hypothesis\n",
    "\n",
    "# 손실 함수를 작성합니다.\n",
    "# mean(h - y)^2 : 예측값과 실제값의 거리를 비용(손실, loss) 함수로 정의\n",
    "cost = tf.reduce_mean(tf.square(hypothesis - y), name=\"cost\")\n",
    "\n",
    "# 경사 하강법 최적화를 수행하여 비용을 최소화\n",
    "optimizer = tf.train.GradientDescentOptimizer(learning_rate=learning_rate)\n",
    "# optimizer = tf.train.AdamOptimizer(learning_rate=learning_rate)\n",
    "\n",
    "train_op = optimizer.minimize(cost)"
   ]
  },
  {
   "cell_type": "code",
   "execution_count": 13,
   "metadata": {
    "scrolled": false
   },
   "outputs": [
    {
     "name": "stdout",
     "output_type": "stream",
     "text": [
      "restore model: ./model/my-model\n",
      "INFO:tensorflow:Restoring parameters from ./model/my-model\n"
     ]
    }
   ],
   "source": [
    "# saver 생성\n",
    "saver = tf.train.Saver(tf.global_variables())\n",
    "\n",
    "sess.run(tf.global_variables_initializer())\n",
    "\n",
    "ckpt = tf.train.get_checkpoint_state(\"./model\")\n",
    "if ckpt and tf.train.checkpoint_exists(ckpt.model_checkpoint_path):\n",
    "    print \"restore model: %s\" % ckpt.model_checkpoint_path\n",
    "    # 이전 학습 모델 복구\n",
    "    saver.restore(sess, ckpt.model_checkpoint_path)"
   ]
  },
  {
   "cell_type": "code",
   "execution_count": 14,
   "metadata": {},
   "outputs": [
    {
     "data": {
      "text/plain": [
       "<tf.Tensor 'cost_1:0' shape=() dtype=string>"
      ]
     },
     "execution_count": 14,
     "metadata": {},
     "output_type": "execute_result"
    },
    {
     "data": {
      "text/plain": [
       "<tf.Tensor 'hypothesis:0' shape=() dtype=string>"
      ]
     },
     "execution_count": 14,
     "metadata": {},
     "output_type": "execute_result"
    },
    {
     "data": {
      "text/plain": [
       "<tf.Tensor 'weights:0' shape=() dtype=string>"
      ]
     },
     "execution_count": 14,
     "metadata": {},
     "output_type": "execute_result"
    },
    {
     "data": {
      "text/plain": [
       "<tf.Tensor 'bias_1:0' shape=() dtype=string>"
      ]
     },
     "execution_count": 14,
     "metadata": {},
     "output_type": "execute_result"
    }
   ],
   "source": [
    "# tensorboard 관련\n",
    "tf.summary.scalar(\"cost\", cost)\n",
    "\n",
    "tf.summary.histogram(\"hypothesis\", hypothesis)\n",
    "tf.summary.histogram(\"weights\", w)\n",
    "tf.summary.histogram(\"bias\", b)\n",
    "\n",
    "tb_path = \"./tb/GD_%d_%s_%s\" % (max_epochs, learning_rate, datetime.strftime(datetime.now(), \"%s\"))\n",
    "merged = tf.summary.merge_all()\n",
    "writer = tf.summary.FileWriter(tb_path, sess.graph)\n",
    "# writer = tf.summary.FileWriter('./tb/Adam_%d_%f' % (max_epochs, learning_rate), sess.graph)"
   ]
  },
  {
   "cell_type": "code",
   "execution_count": 15,
   "metadata": {
    "scrolled": false
   },
   "outputs": [
    {
     "name": "stdout",
     "output_type": "stream",
     "text": [
      "\n",
      "====== Training ======\n",
      "[1] loss: 0.000065, w: [ 0.99082839], b: [ 0.02084933]\n",
      "[11] loss: 0.000040, w: [ 0.99280936], b: [ 0.01634615]\n",
      "[21] loss: 0.000025, w: [ 0.99436241], b: [ 0.01281556]\n",
      "[31] loss: 0.000015, w: [ 0.99558008], b: [ 0.01004757]\n",
      "[41] loss: 0.000009, w: [ 0.99653471], b: [ 0.0078774]\n",
      "[51] loss: 0.000006, w: [ 0.99728316], b: [ 0.00617599]\n",
      "[61] loss: 0.000004, w: [ 0.99786997], b: [ 0.00484211]\n",
      "[71] loss: 0.000002, w: [ 0.99833], b: [ 0.00379628]\n",
      "[81] loss: 0.000001, w: [ 0.99869066], b: [ 0.00297631]\n",
      "[91] loss: 0.000001, w: [ 0.99897349], b: [ 0.00233349]\n"
     ]
    },
    {
     "data": {
      "text/plain": [
       "'./model/my-model'"
      ]
     },
     "execution_count": 15,
     "metadata": {},
     "output_type": "execute_result"
    },
    {
     "name": "stdout",
     "output_type": "stream",
     "text": [
      "\n",
      "====== Test ======\n",
      "x = 5.0, y =  [ 4.99775124]\n",
      "x = 2.5, y =  [ 2.49981284]\n"
     ]
    }
   ],
   "source": [
    "print \"\\n====== Training ======\"\n",
    "for step in range(max_epochs):\n",
    "    # train_op 와 cost 그래프를 계산\n",
    "    _, weight, bias, cost_val, summary = sess.run([train_op, w, b, cost, merged], feed_dict={x: x_data, y: y_data})\n",
    "\n",
    "    if step % 10 == 0:\n",
    "        print \"[%d] loss: %f, w: %s, b: %s\" % (step + 1, cost_val, weight, bias)\n",
    "    \n",
    "    # tensorboard에 summary 값 추가\n",
    "    writer.add_summary(summary, step)\n",
    "    \n",
    "    # 중간 학습 모델 저장\n",
    "#     saver.save(sess, \"./model/my-model\", global_step=step)\n",
    "\n",
    "# 최종 학습 모델 저장\n",
    "saver.save(sess, \"./model/my-model\")\n",
    "\n",
    "# 최적화가 완료된 모델에 테스트 값을 넣고 결과가 잘 나오는지 확인\n",
    "print \"\\n====== Test ======\"\n",
    "print \"x = 5.0, y = \", sess.run(hypothesis, feed_dict={x: 5.0})\n",
    "print \"x = 2.5, y = \", sess.run(hypothesis, feed_dict={x: 2.5})"
   ]
  },
  {
   "cell_type": "code",
   "execution_count": null,
   "metadata": {
    "collapsed": true
   },
   "outputs": [],
   "source": []
  }
 ],
 "metadata": {
  "kernelspec": {
   "display_name": "Python 2",
   "language": "python",
   "name": "python2"
  },
  "language_info": {
   "codemirror_mode": {
    "name": "ipython",
    "version": 2
   },
   "file_extension": ".py",
   "mimetype": "text/x-python",
   "name": "python",
   "nbconvert_exporter": "python",
   "pygments_lexer": "ipython2",
   "version": "2.7.10"
  }
 },
 "nbformat": 4,
 "nbformat_minor": 2
}
